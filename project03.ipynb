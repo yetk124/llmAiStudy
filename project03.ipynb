{
 "cells": [
  {
   "cell_type": "markdown",
   "metadata": {},
   "source": [
    "<h1> MongoDB project </h1>"
   ]
  },
  {
   "cell_type": "markdown",
   "metadata": {},
   "source": [
    "* mongoDB 사용하기 위해서는 [pymongo] 라이브러리를 설치해야 함."
   ]
  },
  {
   "cell_type": "code",
   "execution_count": 1,
   "metadata": {},
   "outputs": [
    {
     "name": "stdout",
     "output_type": "stream",
     "text": [
      "Requirement already satisfied: pymongo in c:\\users\\user\\appdata\\local\\packages\\pythonsoftwarefoundation.python.3.11_qbz5n2kfra8p0\\localcache\\local-packages\\python311\\site-packages (4.11.1)\n",
      "Requirement already satisfied: dnspython<3.0.0,>=1.16.0 in c:\\users\\user\\appdata\\local\\packages\\pythonsoftwarefoundation.python.3.11_qbz5n2kfra8p0\\localcache\\local-packages\\python311\\site-packages (from pymongo) (2.7.0)\n",
      "Note: you may need to restart the kernel to use updated packages.\n"
     ]
    },
    {
     "name": "stderr",
     "output_type": "stream",
     "text": [
      "\n",
      "[notice] A new release of pip is available: 24.3.1 -> 25.0.1\n",
      "[notice] To update, run: C:\\Users\\user\\AppData\\Local\\Microsoft\\WindowsApps\\PythonSoftwareFoundation.Python.3.11_qbz5n2kfra8p0\\python.exe -m pip install --upgrade pip\n"
     ]
    }
   ],
   "source": [
    "%pip install pymongo"
   ]
  },
  {
   "cell_type": "markdown",
   "metadata": {},
   "source": [
    "* MongoDB 서버 연결하기"
   ]
  },
  {
   "cell_type": "code",
   "execution_count": 2,
   "metadata": {},
   "outputs": [],
   "source": [
    "from pymongo import MongoClient\n",
    "import gridfs\n",
    "import os\n",
    "from PIL import Image\n",
    "import io"
   ]
  },
  {
   "cell_type": "code",
   "execution_count": 3,
   "metadata": {},
   "outputs": [],
   "source": [
    "client = MongoClient(\"mongodb://localhost:27017/\")  # 로컬 MongoDB\n",
    "\n",
    "# 특정 데이터베이스 선택\n",
    "db = client['myImageDatabase']\n",
    "\n",
    "# 16MB 이상의 큰 파일을 저장할 수 있는 GridFs\n",
    "# 대용량 파일을 효율적으로 저장 & 검색 가능\n",
    "\n",
    "fs = gridfs.GridFS(db)"
   ]
  },
  {
   "cell_type": "markdown",
   "metadata": {},
   "source": [
    "* image 저장, 검색, 삭제, 수정"
   ]
  },
  {
   "cell_type": "code",
   "execution_count": 4,
   "metadata": {},
   "outputs": [],
   "source": [
    "# 1. 이미지 저장(추가) 함수\n",
    "def save_image(image_path):\n",
    "    \"\"\"\n",
    "    지정된 경로에서 이미지를 읽고 MongoDB에 저장하는 함수\n",
    "    \"\"\"\n",
    "    if not os.path.exists(image_path):\n",
    "        print(\"Error: File not found.\")\n",
    "        return\n",
    "    \n",
    "    filename = os.path.basename(image_path)\n",
    "    with open(image_path, \"rb\") as img:\n",
    "        file_id = fs.put(img, filename=filename)\n",
    "        print(f\"Image saved with ID: {file_id}\")\n",
    "\n",
    "\n",
    "# 2. 이미지 검색 함수\n",
    "def list_images():\n",
    "    \"\"\"\n",
    "    저장된 모든 이미지 파일명을 조회하는 함수\n",
    "    \"\"\"\n",
    "    files = fs.find()\n",
    "    image_list = [file.filename for file in files]\n",
    "    \n",
    "    if image_list:\n",
    "        print(\"Stored Images:\")\n",
    "        for img in image_list:\n",
    "            print(f\"- {img}\")\n",
    "    else:\n",
    "        print(\"No images found in the database.\")\n",
    "\n",
    "# 3. 이미지 삭제 함수\n",
    "def delete_image(filename):\n",
    "    \"\"\"\n",
    "    지정된 파일명을 가진 이미지를 MongoDB에서 삭제하는 함수\n",
    "    \"\"\"\n",
    "    file_data = fs.find_one({\"filename\": filename})\n",
    "    if file_data:\n",
    "        fs.delete(file_data._id)\n",
    "        print(f\"Deleted image: {filename}\")\n",
    "    else:\n",
    "        print(\"Error: Image not found.\")\n",
    "\n",
    "\n",
    "# 4. 이미지 수정 함수\n",
    "def update_image(filename, new_image_path):\n",
    "    \"\"\"\n",
    "    기존의 이미지를 삭제하고 새로운 이미지로 업데이트하는 함수\n",
    "    \"\"\"\n",
    "    if not os.path.exists(new_image_path):\n",
    "        print(\"Error: New image file not found.\")\n",
    "        return\n",
    "    \n",
    "    delete_image(filename)\n",
    "    save_image(new_image_path)\n",
    "\n",
    "\n",
    "# 5. 이미지 다운로드 함수\n",
    "def download_image(filename, output_path):\n",
    "    \"\"\"\n",
    "    MongoDB에서 이미지를 다운로드하여 로컬에 저장하는 함수\n",
    "    \"\"\"\n",
    "    file_data = fs.find_one({\"filename\": filename})\n",
    "    if file_data:\n",
    "        with open(output_path, \"wb\") as output:\n",
    "            output.write(file_data.read())\n",
    "        print(f\"Image downloaded successfully: {output_path}\")\n",
    "    else:\n",
    "        print(\"Error: Image not found.\")"
   ]
  },
  {
   "cell_type": "markdown",
   "metadata": {},
   "source": [
    "* 실행 함수 ! __ !"
   ]
  },
  {
   "cell_type": "code",
   "execution_count": 7,
   "metadata": {},
   "outputs": [
    {
     "name": "stdout",
     "output_type": "stream",
     "text": [
      "\n",
      "===== MongoDB Image Manager =====\n",
      "1. 이미지 저장 (Save Image)\n",
      "2. 저장된 이미지 목록 확인 (List Images)\n",
      "3. 이미지 삭제 (Delete Image)\n",
      "4. 이미지 수정 (Update Image)\n",
      "5. 이미지 다운로드 (Download Image)\n",
      "6. 프로그램 종료 (Exit)\n",
      "===== ===== ===== ===== ===== =====\n",
      "Stored Images:\n",
      "- 쳇바퀴타는햄스터.jfif\n",
      "- 밥먹는햄스터.jfif\n",
      "- 햄스터.jfif\n",
      "- 밥먹는햄스터.jfif\n",
      "- 햄스터.jfif\n",
      "- 햄스터.jfif\n",
      "- 밥먹는햄스터.jfif\n",
      "- 쳇바퀴타는햄스터.jfif\n",
      "\n",
      "===== MongoDB Image Manager =====\n",
      "1. 이미지 저장 (Save Image)\n",
      "2. 저장된 이미지 목록 확인 (List Images)\n",
      "3. 이미지 삭제 (Delete Image)\n",
      "4. 이미지 수정 (Update Image)\n",
      "5. 이미지 다운로드 (Download Image)\n",
      "6. 프로그램 종료 (Exit)\n",
      "===== ===== ===== ===== ===== =====\n",
      "Deleted image: 햄스터.jfif\n",
      "\n",
      "===== MongoDB Image Manager =====\n",
      "1. 이미지 저장 (Save Image)\n",
      "2. 저장된 이미지 목록 확인 (List Images)\n",
      "3. 이미지 삭제 (Delete Image)\n",
      "4. 이미지 수정 (Update Image)\n",
      "5. 이미지 다운로드 (Download Image)\n",
      "6. 프로그램 종료 (Exit)\n",
      "===== ===== ===== ===== ===== =====\n",
      "Stored Images:\n",
      "- 쳇바퀴타는햄스터.jfif\n",
      "- 밥먹는햄스터.jfif\n",
      "- 밥먹는햄스터.jfif\n",
      "- 햄스터.jfif\n",
      "- 햄스터.jfif\n",
      "- 밥먹는햄스터.jfif\n",
      "- 쳇바퀴타는햄스터.jfif\n",
      "\n",
      "===== MongoDB Image Manager =====\n",
      "1. 이미지 저장 (Save Image)\n",
      "2. 저장된 이미지 목록 확인 (List Images)\n",
      "3. 이미지 삭제 (Delete Image)\n",
      "4. 이미지 수정 (Update Image)\n",
      "5. 이미지 다운로드 (Download Image)\n",
      "6. 프로그램 종료 (Exit)\n",
      "===== ===== ===== ===== ===== =====\n",
      "Image saved with ID: 67aedef1a98caa0e63c8d848\n",
      "\n",
      "===== MongoDB Image Manager =====\n",
      "1. 이미지 저장 (Save Image)\n",
      "2. 저장된 이미지 목록 확인 (List Images)\n",
      "3. 이미지 삭제 (Delete Image)\n",
      "4. 이미지 수정 (Update Image)\n",
      "5. 이미지 다운로드 (Download Image)\n",
      "6. 프로그램 종료 (Exit)\n",
      "===== ===== ===== ===== ===== =====\n",
      "Stored Images:\n",
      "- 쳇바퀴타는햄스터.jfif\n",
      "- 밥먹는햄스터.jfif\n",
      "- 밥먹는햄스터.jfif\n",
      "- 햄스터.jfif\n",
      "- 햄스터.jfif\n",
      "- 밥먹는햄스터.jfif\n",
      "- 쳇바퀴타는햄스터.jfif\n",
      "- 놀랜햄스터.jfif\n",
      "\n",
      "===== MongoDB Image Manager =====\n",
      "1. 이미지 저장 (Save Image)\n",
      "2. 저장된 이미지 목록 확인 (List Images)\n",
      "3. 이미지 삭제 (Delete Image)\n",
      "4. 이미지 수정 (Update Image)\n",
      "5. 이미지 다운로드 (Download Image)\n",
      "6. 프로그램 종료 (Exit)\n",
      "===== ===== ===== ===== ===== =====\n",
      ">> 프로그램을 종료합니다. (Exiting...)\n"
     ]
    }
   ],
   "source": [
    "def main():\n",
    "    \"\"\"\n",
    "    사용자가 실행하는 메인 메뉴 함수\n",
    "    원하는 기능을 선택하여 실행할 수 있습니다.\n",
    "    \"\"\"\n",
    "    while True:\n",
    "        print(\"\\n===== MongoDB Image Manager =====\")\n",
    "        print(\"1. 이미지 저장 (Save Image)\")\n",
    "        print(\"2. 저장된 이미지 목록 확인 (List Images)\")\n",
    "        print(\"3. 이미지 삭제 (Delete Image)\")\n",
    "        print(\"4. 이미지 수정 (Update Image)\")\n",
    "        print(\"5. 이미지 다운로드 (Download Image)\")\n",
    "        print(\"6. 프로그램 종료 (Exit)\")\n",
    "        print(\"===== ===== ===== ===== ===== =====\")\n",
    "        \n",
    "        choice = input(\">> 원하는 작업을 선택하세요 (Enter your choice): \")\n",
    "        \n",
    "        if choice == \"1\":\n",
    "            image_path = input(\">> 저장할 이미지 경로를 입력하세요 (Enter image path to save): \")\n",
    "            save_image(image_path)\n",
    "        elif choice == \"2\":\n",
    "            list_images()\n",
    "        elif choice == \"3\":\n",
    "            filename = input(\">> 삭제할 이미지 파일명을 입력하세요 (Enter filename to delete): \")\n",
    "            delete_image(filename)\n",
    "        elif choice == \"4\":\n",
    "            filename = input(\">> 수정할 이미지 파일명을 입력하세요 (Enter filename to update): \")\n",
    "            new_image_path = input(\">> 새로운 이미지 경로를 입력하세요 (Enter new image path): \")\n",
    "            update_image(filename, new_image_path)\n",
    "        elif choice == \"5\":\n",
    "            filename = input(\">> 다운로드할 이미지 파일명을 입력하세요 (Enter filename to download): \")\n",
    "            output_path = input(\">> 이미지를 저장할 경로를 입력하세요 (Enter output path): \")\n",
    "            download_image(filename, output_path)\n",
    "        elif choice == \"6\":\n",
    "            print(\">> 프로그램을 종료합니다. (Exiting...)\")\n",
    "            break\n",
    "        else:\n",
    "            print(\">> 잘못된 입력입니다. 다시 시도하세요. (Invalid choice. Please try again.)\")\n",
    "\n",
    "if __name__ == \"__main__\":\n",
    "    main()\n"
   ]
  }
 ],
 "metadata": {
  "kernelspec": {
   "display_name": "Python 3",
   "language": "python",
   "name": "python3"
  },
  "language_info": {
   "codemirror_mode": {
    "name": "ipython",
    "version": 3
   },
   "file_extension": ".py",
   "mimetype": "text/x-python",
   "name": "python",
   "nbconvert_exporter": "python",
   "pygments_lexer": "ipython3",
   "version": "3.11.9"
  }
 },
 "nbformat": 4,
 "nbformat_minor": 2
}
